{
  "nbformat": 4,
  "nbformat_minor": 0,
  "metadata": {
    "colab": {
      "name": "Spam Mail.ipynb",
      "version": "0.3.2",
      "provenance": [],
      "include_colab_link": true
    },
    "kernelspec": {
      "name": "python3",
      "display_name": "Python 3"
    }
  },
  "cells": [
    {
      "cell_type": "markdown",
      "metadata": {
        "id": "view-in-github",
        "colab_type": "text"
      },
      "source": [
        "[View in Colaboratory](https://colab.research.google.com/github/akamloo/ML-Practice/blob/master/Spam_Mail.ipynb)"
      ]
    },
    {
      "metadata": {
        "id": "-hHK20jBY2fR",
        "colab_type": "code",
        "colab": {}
      },
      "cell_type": "code",
      "source": [
        "import os\n",
        "from collections import Counter\n",
        "import numpy as np\n",
        "def create_dictionary(mail_dir):\n",
        "  all_words = []\n",
        "  mails = [os.path.join(mail_dir,f) for f in os.listdir(mail_dir)]\n",
        "  for mail in mails:\n",
        "    with open(mail) as m:\n",
        "      for line in m:\n",
        "        words = line.split()\n",
        "        all_words += words\n",
        "  dictionary = Counter(all_words)\n",
        "  list_to_remove = list(dictionary)\n",
        "  for item in list_to_remove:\n",
        "    if item.isalpha() == False:\n",
        "      del dictionary[item]\n",
        "    elif len(item) == 1:\n",
        "      del dictionary[item]\n",
        "  dictionary = dictionary.most_common(3000)\n",
        "  return dictionary\n",
        "\n",
        "def extract_features(mail_dir, dictionary):\n",
        "  files = [os.path.join(mail_dir,fi) for fi in os.listdir(mail_dir)]\n",
        "  features_matrix = np.zeros((len(files),3000))\n",
        "  file_labels = np.zeros(len(files))\n",
        "  count = 0\n",
        "  doc_id = 0\n",
        "  for file in files:\n",
        "    with open(file) as fi:\n",
        "      for i, line in enumerate(fi):\n",
        "        if i == 2:\n",
        "          words = line.split()\n",
        "          for word in words:\n",
        "            word_id = 0\n",
        "            for i, d in enumerate(dictionary):\n",
        "              if d[0] == word:\n",
        "                word_id = i\n",
        "                features_matrix[doc_id, word_id] = words.count(word)\n",
        "      file_labels[doc_id] = 0\n",
        "      file_path_tokens = file.split('/')\n",
        "      last_token = file_path_tokens[len(file_path_tokens)-1]\n",
        "      if last_token.startswith(\"spmsg\"):\n",
        "        file_labels[doc_id] = 1\n",
        "        count += 1\n",
        "      doc_id += 1\n",
        "  return features_matrix, file_labels"
      ],
      "execution_count": 0,
      "outputs": []
    },
    {
      "metadata": {
        "id": "efuG5NxX37MS",
        "colab_type": "code",
        "colab": {
          "base_uri": "https://localhost:8080/",
          "height": 51
        },
        "outputId": "9151278c-ee58-4455-dfd8-e47834c0d95a"
      },
      "cell_type": "code",
      "source": [
        "!ls\n",
        "os.getcwd()"
      ],
      "execution_count": 25,
      "outputs": [
        {
          "output_type": "stream",
          "text": [
            "drive  sample_data  spam_mails\n"
          ],
          "name": "stdout"
        },
        {
          "output_type": "execute_result",
          "data": {
            "text/plain": [
              "'/content'"
            ]
          },
          "metadata": {
            "tags": []
          },
          "execution_count": 25
        }
      ]
    },
    {
      "metadata": {
        "id": "BAiP508n4_YP",
        "colab_type": "code",
        "colab": {}
      },
      "cell_type": "code",
      "source": [
        "from sklearn import svm\n",
        "from sklearn.metrics import accuracy_score\n",
        "\n",
        "training_dir = os.getcwd()+'/spam_mails/train'\n",
        "test_dir = os.getcwd()+'/spam_mails/test'"
      ],
      "execution_count": 0,
      "outputs": []
    },
    {
      "metadata": {
        "id": "4UgWFfm78qzK",
        "colab_type": "code",
        "colab": {}
      },
      "cell_type": "code",
      "source": [
        "training_dir\n",
        "dictionary = create_dictionary(training_dir)"
      ],
      "execution_count": 0,
      "outputs": []
    },
    {
      "metadata": {
        "id": "s1cZt9yQ841C",
        "colab_type": "code",
        "colab": {
          "base_uri": "https://localhost:8080/",
          "height": 119
        },
        "outputId": "01536cfb-1ba1-43b1-c817-b8a4c08a11fd"
      },
      "cell_type": "code",
      "source": [
        "print(\"Reading and preprocessing email from files ...\")\n",
        "feature_matrix, file_label = extract_features(training_dir, dictionary)\n",
        "model = svm.SVC()\n",
        "print(\"Training model using SVM ...\")\n",
        "model.fit(feature_matrix, file_label)"
      ],
      "execution_count": 44,
      "outputs": [
        {
          "output_type": "stream",
          "text": [
            "Reading and preprocessing email from files ...\n",
            "Training model using SVM ...\n"
          ],
          "name": "stdout"
        },
        {
          "output_type": "execute_result",
          "data": {
            "text/plain": [
              "SVC(C=1.0, cache_size=200, class_weight=None, coef0=0.0,\n",
              "  decision_function_shape='ovr', degree=3, gamma='auto', kernel='rbf',\n",
              "  max_iter=-1, probability=False, random_state=None, shrinking=True,\n",
              "  tol=0.001, verbose=False)"
            ]
          },
          "metadata": {
            "tags": []
          },
          "execution_count": 44
        }
      ]
    },
    {
      "metadata": {
        "id": "O6swVM3N-70c",
        "colab_type": "code",
        "colab": {
          "base_uri": "https://localhost:8080/",
          "height": 51
        },
        "outputId": "e4767b0a-421d-40f1-94be-fff51e52f43e"
      },
      "cell_type": "code",
      "source": [
        "feature_matrix_test, file_label_test = extract_features(test_dir, dictionary)\n",
        "predicted_labels = model.predict(feature_matrix_test)\n",
        "\n",
        "print(\"Finished classification... Accuracy score : \")\n",
        "print(accuracy_score(file_label_test, predicted_labels))"
      ],
      "execution_count": 46,
      "outputs": [
        {
          "output_type": "stream",
          "text": [
            "Finished classification... Accuracy score : \n",
            "0.8153846153846154\n"
          ],
          "name": "stdout"
        }
      ]
    },
    {
      "metadata": {
        "id": "1KA_bl2mBRsk",
        "colab_type": "code",
        "colab": {
          "base_uri": "https://localhost:8080/",
          "height": 51
        },
        "outputId": "af32edf5-6c18-4251-dc53-e380f0e51234"
      },
      "cell_type": "code",
      "source": [
        "tuned_model = svm.SVC(kernel='rbf', C=100, gamma=0.00012)\n",
        "tuned_model.fit(feature_matrix, file_label)\n",
        "\n",
        "predicted_labels = tuned_model.predict(feature_matrix_test)\n",
        "print(\"Finished classification of tuned model... Accuracy score : \")\n",
        "print(accuracy_score(file_label_test, predicted_labels))"
      ],
      "execution_count": 71,
      "outputs": [
        {
          "output_type": "stream",
          "text": [
            "Finished classification of tuned model... Accuracy score : \n",
            "0.9807692307692307\n"
          ],
          "name": "stdout"
        }
      ]
    },
    {
      "metadata": {
        "id": "uUn2MgdcFRSH",
        "colab_type": "code",
        "colab": {}
      },
      "cell_type": "code",
      "source": [
        ""
      ],
      "execution_count": 0,
      "outputs": []
    }
  ]
}
