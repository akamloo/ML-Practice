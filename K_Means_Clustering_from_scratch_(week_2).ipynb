{
  "nbformat": 4,
  "nbformat_minor": 0,
  "metadata": {
    "colab": {
      "name": "K-Means Clustering from scratch (week 2).ipynb",
      "version": "0.3.2",
      "provenance": [],
      "collapsed_sections": [],
      "include_colab_link": true
    },
    "kernelspec": {
      "name": "python3",
      "display_name": "Python 3"
    }
  },
  "cells": [
    {
      "cell_type": "markdown",
      "metadata": {
        "id": "view-in-github",
        "colab_type": "text"
      },
      "source": [
        "[View in Colaboratory](https://colab.research.google.com/github/akamloo/ML-Practice/blob/master/K_Means_Clustering_from_scratch_(week_2).ipynb)"
      ]
    },
    {
      "metadata": {
        "id": "u2ybUX3HNJAJ",
        "colab_type": "code",
        "colab": {}
      },
      "cell_type": "code",
      "source": [
        "### Objective: Implement K-means Clustering to detect network intrusion attempts (i.e. detecting DDoS attacks)\n",
        "import numpy as np\n",
        "import matplotlib.pyplot as plt\n",
        "import matplotlib.animation as animation"
      ],
      "execution_count": 0,
      "outputs": []
    },
    {
      "metadata": {
        "id": "bdMSFeyC9wx0",
        "colab_type": "code",
        "colab": {
          "base_uri": "https://localhost:8080/",
          "height": 34
        },
        "outputId": "e6c61a38-0b74-48f6-c884-0ad361bdf21a"
      },
      "cell_type": "code",
      "source": [
        "from google.colab import drive\n",
        "drive.mount('/content/gdrive')"
      ],
      "execution_count": 48,
      "outputs": [
        {
          "output_type": "stream",
          "text": [
            "Drive already mounted at /content/gdrive; to attempt to forcibly remount, call drive.mount(\"/content/gdrive\", force_remount=True).\n"
          ],
          "name": "stdout"
        }
      ]
    },
    {
      "metadata": {
        "id": "f6OVzS9p6BCX",
        "colab_type": "code",
        "colab": {}
      },
      "cell_type": "code",
      "source": [
        "# File contains: for each user, how many packets are sent per second and what's size of the packet\n",
        "# Anomalies (DDoS attempts) will have lots of big packets in very short amount of time\n",
        "\n",
        "def load_dataset(name):\n",
        "  return np.loadtxt(name)"
      ],
      "execution_count": 0,
      "outputs": []
    },
    {
      "metadata": {
        "id": "i9PvDtnk6uaB",
        "colab_type": "code",
        "colab": {}
      },
      "cell_type": "code",
      "source": [
        "#Euclidian distance between two instances\n",
        "\n",
        "def euclidian(a, b):\n",
        "  return np.linalg.norm(a-b)"
      ],
      "execution_count": 0,
      "outputs": []
    },
    {
      "metadata": {
        "id": "ta_4Nh39-VdS",
        "colab_type": "code",
        "colab": {
          "base_uri": "https://localhost:8080/",
          "height": 255
        },
        "outputId": "d5c34b47-34b6-41b6-ecea-b7460167a9e8"
      },
      "cell_type": "code",
      "source": [
        "!ls 'gdrive/My Drive/Colab Notebooks/'"
      ],
      "execution_count": 51,
      "outputs": [
        {
          "output_type": "stream",
          "text": [
            " durudataset.txt\n",
            " Gender.ipynb\n",
            "'Google Dopamine RL.ipynb'\n",
            "'Gradient Descent.ipynb'\n",
            "'!~~~.ipynb'\n",
            "'K-Means Clustering from scratch (week 2).ipynb'\n",
            "'Logistic Regression (Iris) with tuning parameter understanding (Week 2).ipynb'\n",
            "'Logistic Regression (Week 2).ipynb'\n",
            " OpenAIGYM.ipynb\n",
            "'Spam Mail.ipynb'\n",
            "'Support Vector Machine (SVM) Algorithm.ipynb'\n",
            " Untitled0.ipynb\n",
            " Untitled1.ipynb\n",
            " Untitled2.ipynb\n"
          ],
          "name": "stdout"
        }
      ]
    },
    {
      "metadata": {
        "id": "94rzbnf97jJU",
        "colab_type": "text"
      },
      "cell_type": "markdown",
      "source": [
        "Inputs:\n",
        "\n",
        "1.   k : number of clusters to be implement\n",
        "2.   epsilon : The minimum error to be used to calculate the distance\n",
        "3.   distance : Name of the method to calculate the distance between the instances\n",
        "\n",
        "Output:\n",
        "\n",
        "1.   The centroids\n",
        "2.   Evolution history of centroid\n",
        "3.   Each instance with its perspective centroid \n",
        "\n",
        "\n"
      ]
    },
    {
      "metadata": {
        "id": "2hL5O0rZ7WN_",
        "colab_type": "code",
        "colab": {}
      },
      "cell_type": "code",
      "source": [
        "def kmeans(k, epsilon = 0, distance = 'euclidian'):\n",
        "  history_centroid = []\n",
        "  \n",
        "  if distance == 'euclidian':\n",
        "    dist_method = euclidian\n",
        "    \n",
        "  dataset = load_dataset('/content/gdrive/My Drive/Colab Notebooks/durudataset.txt')\n",
        "  print(\"Dataset has been loaded\")\n",
        "  num_instances, num_features = dataset.shape\n",
        "  \n",
        "  prototypes = dataset[np.random.randint(1, num_instances - 1, size = k)]  #Define k-centroids, they choosen randonly from dataset\n",
        "  \n",
        "  history_centroid.append(prototypes)  #Keep a log for cetroid values in order to visualize later in graphs\n",
        "  \n",
        "  prototypes_old = np.zeros(prototypes.shape)  #To keep track of centroids every iteration\n",
        "  \n",
        "  norm_centroid = dist_method(prototypes, prototypes_old)\n",
        "  \n",
        "  belongs_to = np.zeros((num_instances, 1))  #To store the instance values with there perticular cluster\n",
        "  \n",
        "  iteration = 0\n",
        "  \n",
        "  while norm_centroid > epsilon:\n",
        "    iteration += 1\n",
        "    \n",
        "    norm_centroid = dist_method(prototypes, prototypes_old)\n",
        "    \n",
        "    prototypes_old = prototypes\n",
        "    \n",
        "    for index_instance, instance in enumerate(dataset):  #For each instance in the dataset (i.e. for all Xi values)\n",
        "      \n",
        "      dist_vector = np.zeros((k, 1))  #Define a distance vector of size k (i.e. number of cluster) to store the distance between instance and each cluster\n",
        "      \n",
        "      for index_centroid, centroid in enumerate(prototypes):  #For each centroid\n",
        "        \n",
        "        dist_vector[index_centroid] = dist_method(centroid, instance)  #Compute the distance between x and centroid\n",
        "        \n",
        "      belongs_to[index_instance, 0] = np.argmin(dist_vector)  #Assign the instance to the closest cluster\n",
        "      \n",
        "      \n",
        "    temp_prototypes = np.zeros((k, num_features))\n",
        "    \n",
        "    for index in range(len(prototypes)):  #To calculate new centroid, for each centroid (k)\n",
        "      \n",
        "      instances_close = [i for i in range(len(belongs_to)) if belongs_to[i] == index]  #Get all the instances assigned to that perticular cluster\n",
        "      \n",
        "      prototype = np.mean(dataset[instances_close], axis = 0)  # Finding the new centroid by computing the mean of all instances of that centroid\n",
        "      \n",
        "      temp_prototypes[index, :] = prototype  #add our new centroid to our new centroid list\n",
        "      \n",
        "    prototypes = temp_prototypes\n",
        "    \n",
        "    history_centroid.append(temp_prototypes)\n",
        "    \n",
        "  return prototypes, history_centroid, belongs_to"
      ],
      "execution_count": 0,
      "outputs": []
    },
    {
      "metadata": {
        "id": "PUu_AkvdNpnF",
        "colab_type": "code",
        "colab": {}
      },
      "cell_type": "code",
      "source": [
        "# Lets design a function that plots centroid and there instances\n",
        "def plot(dataset, history_centroid, belongs_to):\n",
        "  colors = ['r', 'g']\n",
        "  \n",
        "  fig, ax = plt.subplots()\n",
        "  \n",
        "  for index in range(dataset.shape[0]):\n",
        "    instances_close = [i for i in range(len(belongs_to)) if belongs_to[i] == index]\n",
        "    \n",
        "    for instance_index in instances_close:\n",
        "      ax.plot(dataset[instance_index][0], dataset[instance_index][1], (colors[index] + 'o'))\n",
        "      \n",
        "  history_points = []\n",
        "  plt.xlabel('Packet Send/Sec')\n",
        "  plt.ylabel('Size of Packet')\n",
        "  for index, centroid in enumerate(history_centroid):\n",
        "    for inner, item in enumerate(centroid):\n",
        "      if index == 0:\n",
        "        history_points.append(ax.plot(item[0], item[1], 'bo')[0])\n",
        "      else:\n",
        "        history_points[inner].set_data(item[0], item[1])\n",
        "        print(\"Centroid {} {}\".format(index, item))\n",
        "        plt.show()"
      ],
      "execution_count": 0,
      "outputs": []
    },
    {
      "metadata": {
        "id": "69crZuHDR94m",
        "colab_type": "code",
        "colab": {
          "base_uri": "https://localhost:8080/",
          "height": 488
        },
        "outputId": "1cf93b47-ad75-4f27-dc9e-504ba3772817"
      },
      "cell_type": "code",
      "source": [
        "dataset = load_dataset('/content/gdrive/My Drive/Colab Notebooks/durudataset.txt')\n",
        "centroid, history_centroids, belongs_to = kmeans(2)\n",
        "plot(dataset, history_centroids, belongs_to)"
      ],
      "execution_count": 62,
      "outputs": [
        {
          "output_type": "stream",
          "text": [
            "Dataset has been loaded\n",
            "Centroid 1 [0.22331067 0.28960446]\n"
          ],
          "name": "stdout"
        },
        {
          "output_type": "display_data",
          "data": {
            "image/png": "[encoded data removed]",
            "text/plain": [
              "<matplotlib.figure.Figure at 0x7fb41ea08240>"
            ]
          },
          "metadata": {
            "tags": []
          }
        },
        {
          "output_type": "stream",
          "text": [
            "Centroid 1 [1.58058247 1.56897412]\n",
            "Centroid 2 [0.22331067 0.28960446]\n",
            "Centroid 2 [1.58058247 1.56897412]\n",
            "Centroid 3 [0.22331067 0.28960446]\n",
            "Centroid 3 [1.58058247 1.56897412]\n"
          ],
          "name": "stdout"
        }
      ]
    },
    {
      "metadata": {
        "id": "E_jB_JhcWF3y",
        "colab_type": "code",
        "colab": {}
      },
      "cell_type": "code",
      "source": [
        ""
      ],
      "execution_count": 0,
      "outputs": []
    }
  ]
}